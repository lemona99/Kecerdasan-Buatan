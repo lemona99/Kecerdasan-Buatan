{
 "cells": [
  {
   "cell_type": "code",
   "execution_count": 1,
   "id": "a494ddfc",
   "metadata": {},
   "outputs": [],
   "source": [
    "import os\n",
    "import zipfile\n",
    "\n",
    "local_zip = 'Dataset.zip'\n",
    "zip_ref = zipfile.ZipFile(local_zip, 'r')\n",
    "zip_ref.extractall()\n",
    "zip_ref.close()"
   ]
  },
  {
   "cell_type": "code",
   "execution_count": 2,
   "id": "6b74aa1b",
   "metadata": {},
   "outputs": [],
   "source": [
    "# Definisikan path untuk data train dan data validation\n",
    "\n",
    "base_dir = 'Dataset'\n",
    "\n",
    "train_dir = os.path.join(base_dir, 'train')\n",
    "validation_dir = os.path.join(base_dir, 'validation')"
   ]
  },
  {
   "cell_type": "code",
   "execution_count": 3,
   "id": "a07190b0",
   "metadata": {},
   "outputs": [],
   "source": [
    "import cv2\n",
    "import numpy as np\n",
    "\n",
    "# Gather data train\n",
    "train_data = []\n",
    "train_label = []\n",
    "for r, d, f in os.walk(train_dir):\n",
    "    for file in f:\n",
    "        if \".jpg\" in file:\n",
    "            imagePath = os.path.join(r, file)\n",
    "            image = cv2.imread(imagePath)\n",
    "            image = cv2.resize(image, (150,150))\n",
    "            train_data.append(image)\n",
    "            label = imagePath.split(os.path.sep)[-2]\n",
    "            train_label.append(label)\n",
    "\n",
    "train_data = np.array(train_data)\n",
    "train_label = np.array(train_label)"
   ]
  },
  {
   "cell_type": "code",
   "execution_count": 4,
   "id": "48be9876",
   "metadata": {},
   "outputs": [],
   "source": [
    "# Gather data validation\n",
    "val_data = []\n",
    "val_label = []\n",
    "for r, d, f in os.walk(validation_dir):\n",
    "    for file in f:\n",
    "        if \".jpg\" in file:\n",
    "            imagePath = os.path.join(r, file)\n",
    "            image = cv2.imread(imagePath)\n",
    "            image = cv2.resize(image, (150,150))\n",
    "            val_data.append(image)\n",
    "            label = imagePath.split(os.path.sep)[-2]\n",
    "            val_label.append(label)\n",
    "\n",
    "val_data = np.array(val_data)\n",
    "val_label = np.array(val_label)"
   ]
  },
  {
   "cell_type": "code",
   "execution_count": 5,
   "id": "5975b1ff",
   "metadata": {},
   "outputs": [
    {
     "name": "stdout",
     "output_type": "stream",
     "text": [
      "Train Data =  (50, 150, 150, 3)\n",
      "Train Label =  (50,)\n",
      "Validation Data =  (50, 150, 150, 3)\n",
      "Validation Label =  (50,)\n"
     ]
    }
   ],
   "source": [
    "# Tampilkan shape dari data train dan data validation\n",
    "print(\"Train Data = \", train_data.shape)\n",
    "print(\"Train Label = \", train_label.shape)\n",
    "print(\"Validation Data = \", val_data.shape)\n",
    "print(\"Validation Label = \", val_label.shape)"
   ]
  },
  {
   "cell_type": "code",
   "execution_count": 6,
   "id": "98f488a6",
   "metadata": {},
   "outputs": [
    {
     "name": "stdout",
     "output_type": "stream",
     "text": [
      "Data sebelum di-normalisasi  [208 199 196]\n",
      "Data setelah di-normalisasi  [0.8156863  0.78039217 0.76862746]\n"
     ]
    }
   ],
   "source": [
    "# Normalisasi dataset\n",
    "print(\"Data sebelum di-normalisasi \", train_data[0][0][0])\n",
    "\n",
    "x_train = train_data.astype('float32') / 255.0\n",
    "x_val = val_data.astype('float32') / 255.0\n",
    "print(\"Data setelah di-normalisasi \", x_train[0][0][0])"
   ]
  },
  {
   "cell_type": "code",
   "execution_count": 7,
   "id": "f1b1599b",
   "metadata": {},
   "outputs": [
    {
     "name": "stdout",
     "output_type": "stream",
     "text": [
      "Label sebelum di-encoder  ['DaunJeruk' 'DaunJeruk' 'DaunJeruk' 'DaunJeruk']\n",
      "Label setelah di-encoder  [0 0 0 0]\n"
     ]
    }
   ],
   "source": [
    "# Transformasi label encoder\n",
    "from sklearn.preprocessing import LabelEncoder\n",
    "\n",
    "print(\"Label sebelum di-encoder \", train_label[23:27])\n",
    "\n",
    "lb = LabelEncoder()\n",
    "y_train = lb.fit_transform(train_label)\n",
    "y_val = lb.fit_transform(val_label)\n",
    "\n",
    "print(\"Label setelah di-encoder \", y_train[23:27])"
   ]
  },
  {
   "cell_type": "code",
   "execution_count": 8,
   "id": "e53d8b61",
   "metadata": {},
   "outputs": [],
   "source": [
    "from tensorflow.keras.models import Sequential\n",
    "from tensorflow.keras.layers import InputLayer, Dense, Conv2D, MaxPool2D, Flatten"
   ]
  },
  {
   "cell_type": "code",
   "execution_count": 9,
   "id": "4602994f",
   "metadata": {},
   "outputs": [],
   "source": [
    "# Feature Extraction Layer\n",
    "model = Sequential()\n",
    "\n",
    "model.add(InputLayer(input_shape=[150,150,3]))\n",
    "model.add(Conv2D(filters=16, kernel_size=3, strides=1, padding='same', activation='relu'))\n",
    "model.add(MaxPool2D(pool_size=2, padding='same'))\n",
    "model.add(Conv2D(filters=32, kernel_size=3, strides=1, padding='same', activation='relu'))\n",
    "model.add(MaxPool2D(pool_size=2, padding='same'))\n",
    "model.add(Conv2D(filters=64, kernel_size=3, strides=1, padding='same', activation='relu'))\n",
    "model.add(MaxPool2D(pool_size=2, padding='same'))\n",
    "model.add(Flatten())"
   ]
  },
  {
   "cell_type": "code",
   "execution_count": 10,
   "id": "b3437575",
   "metadata": {},
   "outputs": [],
   "source": [
    "# Fully Connected Layer\n",
    "model.add(Dense(128, activation='relu'))\n",
    "model.add(Dense(1, activation='sigmoid'))"
   ]
  },
  {
   "cell_type": "code",
   "execution_count": 11,
   "id": "03a4d12c",
   "metadata": {},
   "outputs": [
    {
     "name": "stdout",
     "output_type": "stream",
     "text": [
      "Model: \"sequential\"\n",
      "_________________________________________________________________\n",
      " Layer (type)                Output Shape              Param #   \n",
      "=================================================================\n",
      " conv2d (Conv2D)             (None, 150, 150, 16)      448       \n",
      "                                                                 \n",
      " max_pooling2d (MaxPooling2D  (None, 75, 75, 16)       0         \n",
      " )                                                               \n",
      "                                                                 \n",
      " conv2d_1 (Conv2D)           (None, 75, 75, 32)        4640      \n",
      "                                                                 \n",
      " max_pooling2d_1 (MaxPooling  (None, 38, 38, 32)       0         \n",
      " 2D)                                                             \n",
      "                                                                 \n",
      " conv2d_2 (Conv2D)           (None, 38, 38, 64)        18496     \n",
      "                                                                 \n",
      " max_pooling2d_2 (MaxPooling  (None, 19, 19, 64)       0         \n",
      " 2D)                                                             \n",
      "                                                                 \n",
      " flatten (Flatten)           (None, 23104)             0         \n",
      "                                                                 \n",
      " dense (Dense)               (None, 128)               2957440   \n",
      "                                                                 \n",
      " dense_1 (Dense)             (None, 1)                 129       \n",
      "                                                                 \n",
      "=================================================================\n",
      "Total params: 2,981,153\n",
      "Trainable params: 2,981,153\n",
      "Non-trainable params: 0\n",
      "_________________________________________________________________\n",
      "None\n"
     ]
    }
   ],
   "source": [
    "# Print model summary\n",
    "print(model.summary())"
   ]
  },
  {
   "cell_type": "code",
   "execution_count": 12,
   "id": "de83b417",
   "metadata": {},
   "outputs": [
    {
     "name": "stderr",
     "output_type": "stream",
     "text": [
      "C:\\Users\\ASUS\\anaconda3\\envs\\Tensorflow\\lib\\site-packages\\keras\\optimizers\\optimizer_v2\\adam.py:114: UserWarning: The `lr` argument is deprecated, use `learning_rate` instead.\n",
      "  super().__init__(name, **kwargs)\n"
     ]
    }
   ],
   "source": [
    "# Compile model\n",
    "from tensorflow.keras.optimizers import Adam\n",
    "\n",
    "model.compile(optimizer=Adam(lr=0.001), \n",
    "              loss='binary_crossentropy', \n",
    "              metrics=['acc'])"
   ]
  },
  {
   "cell_type": "code",
   "execution_count": 23,
   "id": "665d9aad",
   "metadata": {},
   "outputs": [
    {
     "name": "stdout",
     "output_type": "stream",
     "text": [
      "Epoch 1/15\n",
      "3/3 [==============================] - 0s 147ms/step - loss: 1.5428e-35 - acc: 1.0000 - val_loss: 1.5423e-35 - val_acc: 1.0000\n",
      "Epoch 2/15\n",
      "3/3 [==============================] - 0s 126ms/step - loss: 1.5427e-35 - acc: 1.0000 - val_loss: 1.5423e-35 - val_acc: 1.0000\n",
      "Epoch 3/15\n",
      "3/3 [==============================] - 0s 130ms/step - loss: 1.5427e-35 - acc: 1.0000 - val_loss: 1.5422e-35 - val_acc: 1.0000\n",
      "Epoch 4/15\n",
      "3/3 [==============================] - 0s 125ms/step - loss: 1.5427e-35 - acc: 1.0000 - val_loss: 1.5422e-35 - val_acc: 1.0000\n",
      "Epoch 5/15\n",
      "3/3 [==============================] - 0s 123ms/step - loss: 1.5427e-35 - acc: 1.0000 - val_loss: 1.5422e-35 - val_acc: 1.0000\n",
      "Epoch 6/15\n",
      "3/3 [==============================] - 0s 125ms/step - loss: 1.5427e-35 - acc: 1.0000 - val_loss: 1.5422e-35 - val_acc: 1.0000\n",
      "Epoch 7/15\n",
      "3/3 [==============================] - 0s 122ms/step - loss: 1.5427e-35 - acc: 1.0000 - val_loss: 1.5422e-35 - val_acc: 1.0000\n",
      "Epoch 8/15\n",
      "3/3 [==============================] - 0s 117ms/step - loss: 1.5427e-35 - acc: 1.0000 - val_loss: 1.5422e-35 - val_acc: 1.0000\n",
      "Epoch 9/15\n",
      "3/3 [==============================] - 0s 133ms/step - loss: 1.5427e-35 - acc: 1.0000 - val_loss: 1.5422e-35 - val_acc: 1.0000\n",
      "Epoch 10/15\n",
      "3/3 [==============================] - 0s 130ms/step - loss: 1.5427e-35 - acc: 1.0000 - val_loss: 1.5422e-35 - val_acc: 1.0000\n",
      "Epoch 11/15\n",
      "3/3 [==============================] - 0s 163ms/step - loss: 1.5427e-35 - acc: 1.0000 - val_loss: 1.5422e-35 - val_acc: 1.0000\n",
      "Epoch 12/15\n",
      "3/3 [==============================] - 1s 197ms/step - loss: 1.5427e-35 - acc: 1.0000 - val_loss: 1.5422e-35 - val_acc: 1.0000\n",
      "Epoch 13/15\n",
      "3/3 [==============================] - 1s 174ms/step - loss: 1.5427e-35 - acc: 1.0000 - val_loss: 1.5422e-35 - val_acc: 1.0000\n",
      "Epoch 14/15\n",
      "3/3 [==============================] - 0s 164ms/step - loss: 1.5427e-35 - acc: 1.0000 - val_loss: 1.5422e-35 - val_acc: 1.0000\n",
      "Epoch 15/15\n",
      "3/3 [==============================] - 0s 141ms/step - loss: 1.5427e-35 - acc: 1.0000 - val_loss: 1.5422e-35 - val_acc: 1.0000\n"
     ]
    }
   ],
   "source": [
    "H = model.fit(x_train, y_train, batch_size=20, epochs=15, validation_data=(x_val, y_val))"
   ]
  },
  {
   "cell_type": "code",
   "execution_count": 20,
   "id": "580ad566",
   "metadata": {},
   "outputs": [
    {
     "data": {
      "image/png": "[encoded data removed]",
      "text/plain": [
       "<Figure size 640x480 with 1 Axes>"
      ]
     },
     "metadata": {},
     "output_type": "display_data"
    }
   ],
   "source": [
    "%matplotlib inline\n",
    "\n",
    "import matplotlib.pyplot as plt\n",
    "\n",
    "plt.style.use(\"ggplot\")\n",
    "plt.figure()\n",
    "plt.plot(np.arange(0, 15), H.history[\"loss\"], label=\"train_loss\")\n",
    "plt.plot(np.arange(0, 15), H.history[\"val_loss\"], label=\"val_loss\")\n",
    "plt.title(\"Loss Plot\")\n",
    "plt.xlabel(\"Epoch #\")\n",
    "plt.ylabel(\"Loss\")\n",
    "plt.legend()\n",
    "plt.show()"
   ]
  },
  {
   "cell_type": "code",
   "execution_count": 24,
   "id": "1aae3b2b",
   "metadata": {},
   "outputs": [
    {
     "data": {
      "image/png": "[encoded data removed]",
      "text/plain": [
       "<Figure size 640x480 with 1 Axes>"
      ]
     },
     "metadata": {},
     "output_type": "display_data"
    }
   ],
   "source": [
    "plt.style.use(\"ggplot\")\n",
    "plt.figure()\n",
    "plt.plot(np.arange(0, 15), H.history[\"acc\"], label=\"train_acc\")\n",
    "plt.plot(np.arange(0, 15), H.history[\"val_acc\"], label=\"val_acc\")\n",
    "plt.title(\"Accuracy Plot\")\n",
    "plt.xlabel(\"Epoch #\")\n",
    "plt.ylabel(\"Acc\")\n",
    "plt.legend()\n",
    "plt.show()"
   ]
  },
  {
   "cell_type": "code",
   "execution_count": 25,
   "id": "58e5aa04",
   "metadata": {},
   "outputs": [
    {
     "name": "stdout",
     "output_type": "stream",
     "text": [
      "2/2 [==============================] - 0s 32ms/step\n",
      "              precision    recall  f1-score   support\n",
      "\n",
      "           0       1.00      1.00      1.00        50\n",
      "\n",
      "    accuracy                           1.00        50\n",
      "   macro avg       1.00      1.00      1.00        50\n",
      "weighted avg       1.00      1.00      1.00        50\n",
      "\n"
     ]
    },
    {
     "name": "stderr",
     "output_type": "stream",
     "text": [
      "C:\\Users\\ASUS\\AppData\\Local\\Temp\\ipykernel_12228\\3270479562.py:4: DeprecationWarning: `np.int` is a deprecated alias for the builtin `int`. To silence this warning, use `int` by itself. Doing this will not modify any behavior and is safe. When replacing `np.int`, you may wish to use e.g. `np.int64` or `np.int32` to specify the precision. If you wish to review your current use, check the release note link for additional information.\n",
      "Deprecated in NumPy 1.20; for more details and guidance: https://numpy.org/devdocs/release/1.20.0-notes.html#deprecations\n",
      "  labels = (pred > 0.5).astype(np.int)\n"
     ]
    }
   ],
   "source": [
    "from sklearn.metrics import classification_report\n",
    "\n",
    "pred = model.predict(x_val)\n",
    "labels = (pred > 0.5).astype(np.int)\n",
    "\n",
    "print(classification_report(y_val, labels))"
   ]
  },
  {
   "cell_type": "code",
   "execution_count": null,
   "id": "3b52ad79",
   "metadata": {},
   "outputs": [],
   "source": []
  }
 ],
 "metadata": {
  "kernelspec": {
   "display_name": "Python 3 (ipykernel)",
   "language": "python",
   "name": "python3"
  },
  "language_info": {
   "codemirror_mode": {
    "name": "ipython",
    "version": 3
   },
   "file_extension": ".py",
   "mimetype": "text/x-python",
   "name": "python",
   "nbconvert_exporter": "python",
   "pygments_lexer": "ipython3",
   "version": "3.9.15"
  }
 },
 "nbformat": 4,
 "nbformat_minor": 5
}
